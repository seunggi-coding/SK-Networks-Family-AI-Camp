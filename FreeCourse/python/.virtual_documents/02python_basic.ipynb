print("Hello World!")


# print("Hello World!")


myFriends = ['James', 'Rober', 'Lisa', 'Mary']
print(myFriends)
myFriends.insert(1, 'Paul')
print(myFriends)


tuple3 = (9,)
tuple4 = 10,
print(tuple3)
print(tuple4)


tuple7 = ('a','a','a','b','b','c','d')
print(tuple7.count('a'))


set1 = {1, 2, 3}
set1a = {1, 2, 3, 3}
print(set)
print(set1a)



