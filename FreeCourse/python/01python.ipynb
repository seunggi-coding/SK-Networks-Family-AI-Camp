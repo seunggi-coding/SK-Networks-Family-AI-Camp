{
 "cells": [
  {
   "cell_type": "code",
   "execution_count": 1,
   "id": "4799ee90-28ed-47d2-9766-26610c888e84",
   "metadata": {
    "editable": true,
    "slideshow": {
     "slide_type": ""
    },
    "tags": []
   },
   "outputs": [
    {
     "name": "stdout",
     "output_type": "stream",
     "text": [
      "3.12.7 | packaged by Anaconda, Inc. | (main, Oct  4 2024, 13:17:27) [MSC v.1929 64 bit (AMD64)]\n"
     ]
    }
   ],
   "source": [
    "import sys\n",
    "print(sys.version)"
   ]
  },
  {
   "cell_type": "code",
   "execution_count": 2,
   "id": "acbeeb01-b7fb-4f9f-a568-b82644111f94",
   "metadata": {},
   "outputs": [
    {
     "name": "stdout",
     "output_type": "stream",
     "text": [
      " D 드라이브의 볼륨: 로컬 디스크\n",
      " 볼륨 일련 번호: 92CF-7871\n",
      "\n",
      " D:\\PROGRAMMING\\portfolio\\AI_Camp\\FreeCourse\\python 디렉터리\n",
      "\n",
      "2024-12-23  오후 11:41    <DIR>          .\n",
      "2024-12-23  오후 11:12    <DIR>          ..\n",
      "2024-12-23  오후 11:21    <DIR>          .ipynb_checkpoints\n",
      "2024-12-23  오후 11:41    <DIR>          .virtual_documents\n",
      "2024-12-23  오후 11:22             1,966 01python.ipynb\n",
      "               1개 파일               1,966 바이트\n",
      "               4개 디렉터리  146,844,127,232 바이트 남음\n"
     ]
    }
   ],
   "source": [
    "!dir"
   ]
  },
  {
   "cell_type": "code",
   "execution_count": null,
   "id": "eccfa198-684a-44ab-be22-4ce3418bd68a",
   "metadata": {},
   "outputs": [],
   "source": []
  }
 ],
 "metadata": {
  "kernelspec": {
   "display_name": "Python 3 (ipykernel)",
   "language": "python",
   "name": "python3"
  },
  "language_info": {
   "codemirror_mode": {
    "name": "ipython",
    "version": 3
   },
   "file_extension": ".py",
   "mimetype": "text/x-python",
   "name": "python",
   "nbconvert_exporter": "python",
   "pygments_lexer": "ipython3",
   "version": "3.12.7"
  }
 },
 "nbformat": 4,
 "nbformat_minor": 5
}
